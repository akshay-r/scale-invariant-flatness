{
 "cells": [
  {
   "cell_type": "code",
   "execution_count": 1,
   "metadata": {},
   "outputs": [],
   "source": [
    "import numpy as np\n",
    "import torch\n",
    "import torch.nn as nn\n",
    "import torch.nn.functional as F\n",
    "from quotient_manifold_tangent_vector_pytorch import QuotientManifoldTangentVector, riemannian_hess_quadratic_form, riemannian_power_method"
   ]
  },
  {
   "cell_type": "code",
   "execution_count": 2,
   "metadata": {},
   "outputs": [],
   "source": [
    "N = 500\n",
    "input_dim = 50\n",
    "n_classes = 10\n",
    "X = np.random.randn(N, input_dim)\n",
    "y = np.random.binomial(n_classes-1, 0.5, size=(N,))"
   ]
  },
  {
   "cell_type": "code",
   "execution_count": 3,
   "metadata": {},
   "outputs": [],
   "source": [
    "class Net(nn.Module):\n",
    "    def __init__(self):\n",
    "        super(Net,self).__init__()\n",
    "        self.fc1 = nn.Linear(50,30, bias=True)\n",
    "        self.fc2 = nn.Linear(30,20, bias=True)\n",
    "        self.fc3 = nn.Linear(20,10, bias=True)\n",
    "        \n",
    "    def get_weight_tensors(self):\n",
    "        return [self.fc1.weight, self.fc2.weight, self.fc3.weight, self.fc1.bias, self.fc2.bias, self.fc3.bias]\n",
    "\n",
    "    def forward(self, x):\n",
    "        x = F.relu(self.fc1(x))\n",
    "        x = F.relu(self.fc2(x))\n",
    "        x = self.fc3(x)\n",
    "        return x\n",
    "\n",
    "net = Net()\n",
    "criterion = nn.CrossEntropyLoss()"
   ]
  },
  {
   "cell_type": "code",
   "execution_count": 4,
   "metadata": {},
   "outputs": [
    {
     "name": "stdout",
     "output_type": "stream",
     "text": [
      "tensor(2.3383, grad_fn=<NllLossBackward>)\n"
     ]
    }
   ],
   "source": [
    "from torch.autograd import Variable\n",
    "inputs, labels = Variable(torch.Tensor(X)), Variable(torch.Tensor(y).type(torch.LongTensor))\n",
    "\n",
    "loss = criterion(net(inputs), labels)\n",
    "print loss"
   ]
  },
  {
   "cell_type": "code",
   "execution_count": 5,
   "metadata": {},
   "outputs": [
    {
     "name": "stdout",
     "output_type": "stream",
     "text": [
      "tensor(2.3383, grad_fn=<NllLossBackward>)\n"
     ]
    }
   ],
   "source": [
    "alphas = [5.,4.,1./20.]\n",
    "b_alphas = [5., 20., 1.]\n",
    "\n",
    "t_alphas = alphas + b_alphas\n",
    "\n",
    "W = [np.copy(var.data.numpy()) for var in net.get_weight_tensors()]\n",
    "W_tr = [t_alphas[i]*W[i] for i in range(len(W))]\n",
    "\n",
    "for i,var in enumerate(net.get_weight_tensors()):\n",
    "    var.data.copy_(torch.Tensor(W_tr[i]))\n",
    "\n",
    "tr_loss = criterion(net(inputs), labels)\n",
    "print tr_loss"
   ]
  },
  {
   "cell_type": "code",
   "execution_count": 6,
   "metadata": {},
   "outputs": [],
   "source": [
    "layer_sizes = [w.shape for w in W]\n",
    "v_init = [np.random.normal(size=layer_sizes[i]) for i in range(len(layer_sizes))]\n",
    "\n",
    "W_orig = QuotientManifoldTangentVector(layer_sizes)\n",
    "W_orig.set_vector(W)\n",
    "W_trans = QuotientManifoldTangentVector(layer_sizes)\n",
    "W_trans.set_vector(W_tr)"
   ]
  },
  {
   "cell_type": "code",
   "execution_count": 7,
   "metadata": {},
   "outputs": [
    {
     "name": "stdout",
     "output_type": "stream",
     "text": [
      "2.391911960287674\n"
     ]
    }
   ],
   "source": [
    "for i,var in enumerate(net.get_weight_tensors()):\n",
    "    var.data.copy_(torch.Tensor(W[i]))\n",
    "\n",
    "v_res,errs = riemannian_power_method(v_init, 1000, net, criterion, W_orig, X, y, tol=1e-8)\n",
    "sp_norm = riemannian_hess_quadratic_form(v_res, net, criterion, W_orig, X, y)\n",
    "print sp_norm"
   ]
  },
  {
   "cell_type": "code",
   "execution_count": 8,
   "metadata": {},
   "outputs": [
    {
     "data": {
      "text/plain": [
       "[<matplotlib.lines.Line2D at 0x109cc3590>]"
      ]
     },
     "execution_count": 8,
     "metadata": {},
     "output_type": "execute_result"
    },
    {
     "data": {
      "image/png": "[encoded data removed]",
      "text/plain": [
       "<matplotlib.figure.Figure at 0x109be55d0>"
      ]
     },
     "metadata": {},
     "output_type": "display_data"
    }
   ],
   "source": [
    "import matplotlib.pyplot as plt\n",
    "%matplotlib inline\n",
    "\n",
    "plt.semilogy(errs)"
   ]
  },
  {
   "cell_type": "code",
   "execution_count": 9,
   "metadata": {},
   "outputs": [
    {
     "name": "stdout",
     "output_type": "stream",
     "text": [
      "2.391912210901411\n"
     ]
    }
   ],
   "source": [
    "for i,var in enumerate(net.get_weight_tensors()):\n",
    "    var.data.copy_(torch.Tensor(W_tr[i]))\n",
    "\n",
    "v_res_tr, errs_tr = riemannian_power_method(v_init, 1000, net, criterion, W_trans, X, y, tol=1e-8)\n",
    "sp_norm_tr = riemannian_hess_quadratic_form(v_res_tr, net, criterion, W_trans, X, y)\n",
    "print sp_norm_tr"
   ]
  },
  {
   "cell_type": "code",
   "execution_count": 10,
   "metadata": {},
   "outputs": [
    {
     "data": {
      "text/plain": [
       "[<matplotlib.lines.Line2D at 0x10a147e90>]"
      ]
     },
     "execution_count": 10,
     "metadata": {},
     "output_type": "execute_result"
    },
    {
     "data": {
      "image/png": "[encoded data removed]",
      "text/plain": [
       "<matplotlib.figure.Figure at 0x109f7a1d0>"
      ]
     },
     "metadata": {},
     "output_type": "display_data"
    }
   ],
   "source": [
    "plt.semilogy(errs_tr)"
   ]
  },
  {
   "cell_type": "code",
   "execution_count": 11,
   "metadata": {},
   "outputs": [
    {
     "name": "stdout",
     "output_type": "stream",
     "text": [
      "1.047754854839771e-07\n"
     ]
    }
   ],
   "source": [
    "print abs(sp_norm - sp_norm_tr)/sp_norm"
   ]
  },
  {
   "cell_type": "code",
   "execution_count": 12,
   "metadata": {},
   "outputs": [
    {
     "name": "stdout",
     "output_type": "stream",
     "text": [
      "2.391911960287674\n"
     ]
    }
   ],
   "source": [
    "for i,var in enumerate(net.get_weight_tensors()):\n",
    "    var.data.copy_(torch.Tensor(W[i]))\n",
    "\n",
    "v_res_rep,errs_rep = riemannian_power_method(v_init, 1000, net, criterion, W_orig, X, y, tol=1e-8)\n",
    "sp_norm_rep = riemannian_hess_quadratic_form(v_res, net, criterion, W_orig, X, y)\n",
    "print sp_norm_rep"
   ]
  },
  {
   "cell_type": "code",
   "execution_count": 13,
   "metadata": {},
   "outputs": [
    {
     "data": {
      "text/plain": [
       "[<matplotlib.lines.Line2D at 0x10a2ee710>]"
      ]
     },
     "execution_count": 13,
     "metadata": {},
     "output_type": "execute_result"
    },
    {
     "data": {
      "image/png": "[encoded data removed]",
      "text/plain": [
       "<matplotlib.figure.Figure at 0x109d1bb50>"
      ]
     },
     "metadata": {},
     "output_type": "display_data"
    }
   ],
   "source": [
    "plt.semilogy(errs_tr)"
   ]
  },
  {
   "cell_type": "code",
   "execution_count": 14,
   "metadata": {},
   "outputs": [
    {
     "name": "stdout",
     "output_type": "stream",
     "text": [
      "0.0\n"
     ]
    }
   ],
   "source": [
    "print abs(sp_norm - sp_norm_rep)/sp_norm"
   ]
  },
  {
   "cell_type": "code",
   "execution_count": null,
   "metadata": {},
   "outputs": [],
   "source": []
  }
 ],
 "metadata": {
  "kernelspec": {
   "display_name": "Python 2",
   "language": "python",
   "name": "python2"
  },
  "language_info": {
   "codemirror_mode": {
    "name": "ipython",
    "version": 2
   },
   "file_extension": ".py",
   "mimetype": "text/x-python",
   "name": "python",
   "nbconvert_exporter": "python",
   "pygments_lexer": "ipython2",
   "version": "2.7.15"
  }
 },
 "nbformat": 4,
 "nbformat_minor": 2
}
